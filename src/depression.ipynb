{
 "cells": [
  {
   "cell_type": "code",
   "execution_count": 1,
   "id": "4a969c52-0a35-4069-a767-1eccc09bde95",
   "metadata": {
    "execution": {
     "iopub.execute_input": "2023-05-27T09:24:33.926705Z",
     "iopub.status.busy": "2023-05-27T09:24:33.926481Z",
     "iopub.status.idle": "2023-05-27T09:25:24.175736Z",
     "shell.execute_reply": "2023-05-27T09:25:24.173342Z",
     "shell.execute_reply.started": "2023-05-27T09:24:33.926675Z"
    },
    "tags": []
   },
   "outputs": [
    {
     "name": "stdout",
     "output_type": "stream",
     "text": [
      "Requirement already satisfied: numpy in /opt/conda/lib/python3.9/site-packages (1.22.3)\n",
      "Collecting pandas\n",
      "  Downloading pandas-2.0.1-cp39-cp39-manylinux_2_17_x86_64.manylinux2014_x86_64.whl (12.4 MB)\n",
      "\u001b[2K     \u001b[90m━━━━━━━━━━━━━━━━━━━━━━━━━━━━━━━━━━━━━━━━\u001b[0m \u001b[32m12.4/12.4 MB\u001b[0m \u001b[31m53.5 MB/s\u001b[0m eta \u001b[36m0:00:00\u001b[0m00:01\u001b[0m00:01\u001b[0m\n",
      "\u001b[?25hRequirement already satisfied: python-dateutil>=2.8.2 in /opt/conda/lib/python3.9/site-packages (from pandas) (2.8.2)\n",
      "Collecting tzdata>=2022.1\n",
      "  Downloading tzdata-2023.3-py2.py3-none-any.whl (341 kB)\n",
      "\u001b[2K     \u001b[90m━━━━━━━━━━━━━━━━━━━━━━━━━━━━━━━━━━━━━━━\u001b[0m \u001b[32m341.8/341.8 KB\u001b[0m \u001b[31m5.8 MB/s\u001b[0m eta \u001b[36m0:00:00\u001b[0m00:01\u001b[0m\n",
      "\u001b[?25hRequirement already satisfied: pytz>=2020.1 in /opt/conda/lib/python3.9/site-packages (from pandas) (2022.1)\n",
      "Requirement already satisfied: numpy>=1.20.3 in /opt/conda/lib/python3.9/site-packages (from pandas) (1.22.3)\n",
      "Requirement already satisfied: six>=1.5 in /opt/conda/lib/python3.9/site-packages (from python-dateutil>=2.8.2->pandas) (1.16.0)\n",
      "Installing collected packages: tzdata, pandas\n",
      "Successfully installed pandas-2.0.1 tzdata-2023.3\n",
      "Requirement already satisfied: matplotlib in /opt/conda/lib/python3.9/site-packages (3.5.1)\n",
      "Requirement already satisfied: packaging>=20.0 in /opt/conda/lib/python3.9/site-packages (from matplotlib) (21.3)\n",
      "Requirement already satisfied: python-dateutil>=2.7 in /opt/conda/lib/python3.9/site-packages (from matplotlib) (2.8.2)\n",
      "Requirement already satisfied: numpy>=1.17 in /opt/conda/lib/python3.9/site-packages (from matplotlib) (1.22.3)\n",
      "Requirement already satisfied: cycler>=0.10 in /opt/conda/lib/python3.9/site-packages (from matplotlib) (0.11.0)\n",
      "Requirement already satisfied: fonttools>=4.22.0 in /opt/conda/lib/python3.9/site-packages (from matplotlib) (4.31.2)\n",
      "Requirement already satisfied: kiwisolver>=1.0.1 in /opt/conda/lib/python3.9/site-packages (from matplotlib) (1.4.2)\n",
      "Requirement already satisfied: pillow>=6.2.0 in /opt/conda/lib/python3.9/site-packages (from matplotlib) (9.0.1)\n",
      "Requirement already satisfied: pyparsing>=2.2.1 in /opt/conda/lib/python3.9/site-packages (from matplotlib) (3.0.7)\n",
      "Requirement already satisfied: six>=1.5 in /opt/conda/lib/python3.9/site-packages (from python-dateutil>=2.7->matplotlib) (1.16.0)\n",
      "Collecting scikit-learn\n",
      "  Downloading scikit_learn-1.2.2-cp39-cp39-manylinux_2_17_x86_64.manylinux2014_x86_64.whl (9.6 MB)\n",
      "\u001b[2K     \u001b[90m━━━━━━━━━━━━━━━━━━━━━━━━━━━━━━━━━━━━━━━━\u001b[0m \u001b[32m9.6/9.6 MB\u001b[0m \u001b[31m36.1 MB/s\u001b[0m eta \u001b[36m0:00:00\u001b[0m00:01\u001b[0m00:01\u001b[0m\n",
      "\u001b[?25hCollecting threadpoolctl>=2.0.0\n",
      "  Downloading threadpoolctl-3.1.0-py3-none-any.whl (14 kB)\n",
      "Collecting scipy>=1.3.2\n",
      "  Downloading scipy-1.10.1-cp39-cp39-manylinux_2_17_x86_64.manylinux2014_x86_64.whl (34.5 MB)\n",
      "\u001b[2K     \u001b[90m━━━━━━━━━━━━━━━━━━━━━━━━━━━━━━━━━━━━━━━━\u001b[0m \u001b[32m34.5/34.5 MB\u001b[0m \u001b[31m27.8 MB/s\u001b[0m eta \u001b[36m0:00:00\u001b[0m00:01\u001b[0m00:01\u001b[0m\n",
      "\u001b[?25hCollecting joblib>=1.1.1\n",
      "  Downloading joblib-1.2.0-py3-none-any.whl (297 kB)\n",
      "\u001b[2K     \u001b[90m━━━━━━━━━━━━━━━━━━━━━━━━━━━━━━━━━━━━━━━\u001b[0m \u001b[32m298.0/298.0 KB\u001b[0m \u001b[31m2.7 MB/s\u001b[0m eta \u001b[36m0:00:00\u001b[0m00:01\u001b[0m\n",
      "\u001b[?25hRequirement already satisfied: numpy>=1.17.3 in /opt/conda/lib/python3.9/site-packages (from scikit-learn) (1.22.3)\n",
      "Installing collected packages: threadpoolctl, scipy, joblib, scikit-learn\n",
      "Successfully installed joblib-1.2.0 scikit-learn-1.2.2 scipy-1.10.1 threadpoolctl-3.1.0\n",
      "Collecting nltk\n",
      "  Downloading nltk-3.8.1-py3-none-any.whl (1.5 MB)\n",
      "\u001b[2K     \u001b[90m━━━━━━━━━━━━━━━━━━━━━━━━━━━━━━━━━━━━━━━━\u001b[0m \u001b[32m1.5/1.5 MB\u001b[0m \u001b[31m9.2 MB/s\u001b[0m eta \u001b[36m0:00:00\u001b[0m:00:01\u001b[0m0:01\u001b[0m\n",
      "\u001b[?25hRequirement already satisfied: tqdm in /opt/conda/lib/python3.9/site-packages (from nltk) (4.63.1)\n",
      "Requirement already satisfied: joblib in /opt/conda/lib/python3.9/site-packages (from nltk) (1.2.0)\n",
      "Requirement already satisfied: click in /opt/conda/lib/python3.9/site-packages (from nltk) (8.1.1)\n",
      "Collecting regex>=2021.8.3\n",
      "  Downloading regex-2023.5.5-cp39-cp39-manylinux_2_17_x86_64.manylinux2014_x86_64.whl (769 kB)\n",
      "\u001b[2K     \u001b[90m━━━━━━━━━━━━━━━━━━━━━━━━━━━━━━━━━━━━━━\u001b[0m \u001b[32m769.0/769.0 KB\u001b[0m \u001b[31m12.2 MB/s\u001b[0m eta \u001b[36m0:00:00\u001b[0m00:01\u001b[0m\n",
      "\u001b[?25hInstalling collected packages: regex, nltk\n",
      "Successfully installed nltk-3.8.1 regex-2023.5.5\n"
     ]
    }
   ],
   "source": [
    "# packages\n",
    "! pip install numpy\n",
    "! pip install pandas\n",
    "! pip install matplotlib\n",
    "! pip install scikit-learn\n",
    "! pip install nltk"
   ]
  },
  {
   "cell_type": "code",
   "execution_count": 2,
   "id": "45fb21ef-e764-49c6-a8ea-aa65a883ed20",
   "metadata": {
    "execution": {
     "iopub.execute_input": "2023-05-27T09:25:24.180014Z",
     "iopub.status.busy": "2023-05-27T09:25:24.179303Z",
     "iopub.status.idle": "2023-05-27T09:25:31.018774Z",
     "shell.execute_reply": "2023-05-27T09:25:31.018112Z",
     "shell.execute_reply.started": "2023-05-27T09:25:24.179972Z"
    },
    "tags": []
   },
   "outputs": [
    {
     "name": "stderr",
     "output_type": "stream",
     "text": [
      "[nltk_data] Downloading package stopwords to /home/ucloud/nltk_data...\n",
      "[nltk_data]   Unzipping corpora/stopwords.zip.\n",
      "[nltk_data] Downloading package vader_lexicon to\n",
      "[nltk_data]     /home/ucloud/nltk_data...\n"
     ]
    }
   ],
   "source": [
    "import os\n",
    "import pandas as pd\n",
    "import numpy as np\n",
    "import re\n",
    "import matplotlib.pyplot as plt\n",
    "\n",
    "from sklearn.model_selection import train_test_split\n",
    "from sklearn.feature_extraction.text import TfidfVectorizer\n",
    "from sklearn.linear_model import LogisticRegression\n",
    "from sklearn.metrics import classification_report\n",
    "from sklearn.metrics import confusion_matrix, ConfusionMatrixDisplay\n",
    "\n",
    "import nltk\n",
    "from nltk.corpus import stopwords\n",
    "nltk.download('stopwords')\n",
    "nltk.download(\"vader_lexicon\")\n",
    "from nltk.sentiment.vader import SentimentIntensityAnalyzer\n",
    "sent_analyzer = SentimentIntensityAnalyzer()"
   ]
  },
  {
   "cell_type": "code",
   "execution_count": 3,
   "id": "eb09fc56-220b-44c0-9a4e-7ebbbfecd46d",
   "metadata": {
    "execution": {
     "iopub.execute_input": "2023-05-27T09:25:31.019829Z",
     "iopub.status.busy": "2023-05-27T09:25:31.019681Z",
     "iopub.status.idle": "2023-05-27T09:25:31.026542Z",
     "shell.execute_reply": "2023-05-27T09:25:31.026061Z",
     "shell.execute_reply.started": "2023-05-27T09:25:31.019811Z"
    },
    "tags": []
   },
   "outputs": [
    {
     "data": {
      "text/plain": [
       "'/work/project/src'"
      ]
     },
     "execution_count": 3,
     "metadata": {},
     "output_type": "execute_result"
    }
   ],
   "source": [
    "os.getcwd()"
   ]
  },
  {
   "cell_type": "markdown",
   "id": "6929a558-b547-40b9-92ef-bd4340813935",
   "metadata": {},
   "source": [
    "Make sure to be in the ```src``` folder to run the code, because the paths are set accordingly."
   ]
  },
  {
   "cell_type": "markdown",
   "id": "f2b51683-e63c-4ab2-9a0a-144b724d699e",
   "metadata": {},
   "source": [
    "## Looking at stop words\n",
    "I download the stop words from nltk and choose the relevant ones for my own stop word corpus. The literature suggests that pronouns and verbs in past tense are indicators depression, so I choose to leave them in the data."
   ]
  },
  {
   "cell_type": "code",
   "execution_count": 4,
   "id": "b4fdb401-2d12-4eda-a5fa-f26fb5a029d1",
   "metadata": {
    "execution": {
     "iopub.execute_input": "2023-05-27T09:25:31.027403Z",
     "iopub.status.busy": "2023-05-27T09:25:31.027265Z",
     "iopub.status.idle": "2023-05-27T09:25:31.088758Z",
     "shell.execute_reply": "2023-05-27T09:25:31.087671Z",
     "shell.execute_reply.started": "2023-05-27T09:25:31.027387Z"
    },
    "tags": []
   },
   "outputs": [
    {
     "name": "stdout",
     "output_type": "stream",
     "text": [
      "['i', 'me', 'my', 'myself', 'we', 'our', 'ours', 'ourselves', 'you', \"you're\", \"you've\", \"you'll\", \"you'd\", 'your', 'yours', 'yourself', 'yourselves', 'he', 'him', 'his', 'himself', 'she', \"she's\", 'her', 'hers', 'herself', 'it', \"it's\", 'its', 'itself', 'they', 'them', 'their', 'theirs', 'themselves', 'what', 'which', 'who', 'whom', 'this', 'that', \"that'll\", 'these', 'those', 'am', 'is', 'are', 'was', 'were', 'be', 'been', 'being', 'have', 'has', 'had', 'having', 'do', 'does', 'did', 'doing', 'a', 'an', 'the', 'and', 'but', 'if', 'or', 'because', 'as', 'until', 'while', 'of', 'at', 'by', 'for', 'with', 'about', 'against', 'between', 'into', 'through', 'during', 'before', 'after', 'above', 'below', 'to', 'from', 'up', 'down', 'in', 'out', 'on', 'off', 'over', 'under', 'again', 'further', 'then', 'once', 'here', 'there', 'when', 'where', 'why', 'how', 'all', 'any', 'both', 'each', 'few', 'more', 'most', 'other', 'some', 'such', 'no', 'nor', 'not', 'only', 'own', 'same', 'so', 'than', 'too', 'very', 's', 't', 'can', 'will', 'just', 'don', \"don't\", 'should', \"should've\", 'now', 'd', 'll', 'm', 'o', 're', 've', 'y', 'ain', 'aren', \"aren't\", 'couldn', \"couldn't\", 'didn', \"didn't\", 'doesn', \"doesn't\", 'hadn', \"hadn't\", 'hasn', \"hasn't\", 'haven', \"haven't\", 'isn', \"isn't\", 'ma', 'mightn', \"mightn't\", 'mustn', \"mustn't\", 'needn', \"needn't\", 'shan', \"shan't\", 'shouldn', \"shouldn't\", 'wasn', \"wasn't\", 'weren', \"weren't\", 'won', \"won't\", 'wouldn', \"wouldn't\"]\n"
     ]
    }
   ],
   "source": [
    "stop_corpus = stopwords.words('english')\n",
    "print(stop_corpus)"
   ]
  },
  {
   "cell_type": "markdown",
   "id": "99d9bb22-ac64-444f-80d7-e341f32cb0d2",
   "metadata": {},
   "source": [
    "## Preprocessing\n",
    "This prepocessing function removes unwanted characters from the data and is initiated in the load_processing_data() function below."
   ]
  },
  {
   "cell_type": "code",
   "execution_count": 26,
   "id": "2abfdccd-d8ca-4170-955f-e98669013881",
   "metadata": {
    "execution": {
     "iopub.execute_input": "2023-05-27T09:55:31.480781Z",
     "iopub.status.busy": "2023-05-27T09:55:31.480149Z",
     "iopub.status.idle": "2023-05-27T09:55:31.489086Z",
     "shell.execute_reply": "2023-05-27T09:55:31.487956Z",
     "shell.execute_reply.started": "2023-05-27T09:55:31.480727Z"
    },
    "tags": []
   },
   "outputs": [],
   "source": [
    "def text_preprocessing(s):\n",
    "    # lowercase the sentence\n",
    "    s = s.lower()\n",
    "    # Change 't to 'not'\n",
    "    s = re.sub(r'\\'t', ' not', s)\n",
    "    # Remove some special characters\n",
    "    s = re.sub(r'([\\;\\:\\|•«\\n])', ' ', s)\n",
    "    # Remove trailing whitespace\n",
    "    s = re.sub(r'\\s+', ' ', s).strip()\n",
    "    \n",
    "    return s"
   ]
  },
  {
   "cell_type": "markdown",
   "id": "5154852a-39b5-4543-bc0a-1c009590b198",
   "metadata": {},
   "source": [
    "I created a separate stop word function because the model performs worse when stop words are removed. Therefore, it is easy to uncomment two lines of code to see how it performs without stop words, but I have chosen to keep them in my analysis."
   ]
  },
  {
   "cell_type": "code",
   "execution_count": 6,
   "id": "c5005c83-d849-46b5-8014-f7496ceaa655",
   "metadata": {
    "execution": {
     "iopub.execute_input": "2023-05-27T09:25:31.102040Z",
     "iopub.status.busy": "2023-05-27T09:25:31.101720Z",
     "iopub.status.idle": "2023-05-27T09:25:31.115640Z",
     "shell.execute_reply": "2023-05-27T09:25:31.115088Z",
     "shell.execute_reply.started": "2023-05-27T09:25:31.102012Z"
    },
    "tags": []
   },
   "outputs": [],
   "source": [
    "def stop_words(s):\n",
    "    # remove stop words\n",
    "    s = ' '.join([word for word in s.split()\n",
    "                  if word not in stop_corpus])\n",
    "    \n",
    "    return s"
   ]
  },
  {
   "cell_type": "markdown",
   "id": "2ab39e78-d935-44c5-96af-5f7d3ea3879d",
   "metadata": {},
   "source": [
    "# Machine learning"
   ]
  },
  {
   "cell_type": "markdown",
   "id": "a81691db-73ff-4858-b799-94d53f810606",
   "metadata": {},
   "source": [
    "## Load and process the data"
   ]
  },
  {
   "cell_type": "markdown",
   "id": "6ce68761-c4e2-4b13-ad4f-13a483bb3f5d",
   "metadata": {},
   "source": [
    "This function preprocesses the data and creates the train and test split"
   ]
  },
  {
   "cell_type": "code",
   "execution_count": 7,
   "id": "4af8a091-b73b-4be5-a0b1-7a89c170bf64",
   "metadata": {
    "execution": {
     "iopub.execute_input": "2023-05-27T09:25:31.116728Z",
     "iopub.status.busy": "2023-05-27T09:25:31.116526Z",
     "iopub.status.idle": "2023-05-27T09:25:31.133174Z",
     "shell.execute_reply": "2023-05-27T09:25:31.132661Z",
     "shell.execute_reply.started": "2023-05-27T09:25:31.116703Z"
    },
    "tags": []
   },
   "outputs": [],
   "source": [
    "# let's load and process the data \n",
    "def load_process_data():\n",
    "    # define path\n",
    "    filepath = os.path.join('../in/depression_dataset_reddit_cleaned.csv')\n",
    "    # read data as pandas data frame\n",
    "    data = pd.read_csv(filepath)\n",
    "\n",
    "    # a bit of data exploration\n",
    "    print('') # for a bit of space\n",
    "    \n",
    "    depression = data[data['is_depression'] == 1]\n",
    "    non_depression = data[data['is_depression'] == 0]\n",
    "    print(round(depression['clean_text'].str.split(\" \").apply(len).describe()))\n",
    "    \n",
    "    print('') # for a bit of space\n",
    "    \n",
    "    print(round(non_depression['clean_text'].str.split(\" \").apply(len).describe()))\n",
    "\n",
    "    # create train test split\n",
    "    X_train, X_test, y_train, y_test = train_test_split(data['clean_text'], # texts for the model\n",
    "                                                            data['is_depression'], # classification labels\n",
    "                                                            test_size = 0.2, # create an 80/20 split\n",
    "                                                            random_state = 42) # random state for reproducibility\n",
    "    X_train = np.array([text_preprocessing(text) for text in X_train])\n",
    "    X_test = np.array([text_preprocessing(text) for text in X_test])\n",
    "\n",
    "    # uncomment the two lines below here to see how the model performs with stop words removed\n",
    "    #X_train = np.array([stop_words(text) for text in X_train])\n",
    "    #X_test = np.array([stop_words(text) for text in X_test])\n",
    "\n",
    "    return X_train, X_test, y_train, y_test"
   ]
  },
  {
   "cell_type": "code",
   "execution_count": 8,
   "id": "b9631c9a-b457-4a64-a401-720545a2fbe2",
   "metadata": {
    "execution": {
     "iopub.execute_input": "2023-05-27T09:25:31.133893Z",
     "iopub.status.busy": "2023-05-27T09:25:31.133753Z",
     "iopub.status.idle": "2023-05-27T09:25:31.781696Z",
     "shell.execute_reply": "2023-05-27T09:25:31.781043Z",
     "shell.execute_reply.started": "2023-05-27T09:25:31.133877Z"
    },
    "tags": []
   },
   "outputs": [
    {
     "name": "stdout",
     "output_type": "stream",
     "text": [
      "\n",
      "count    3831.0\n",
      "mean      136.0\n",
      "std       186.0\n",
      "min         1.0\n",
      "25%        32.0\n",
      "50%        78.0\n",
      "75%       174.0\n",
      "max      4239.0\n",
      "Name: clean_text, dtype: float64\n",
      "\n",
      "count    3900.0\n",
      "mean       14.0\n",
      "std         7.0\n",
      "min         1.0\n",
      "25%         8.0\n",
      "50%        13.0\n",
      "75%        20.0\n",
      "max        42.0\n",
      "Name: clean_text, dtype: float64\n"
     ]
    }
   ],
   "source": [
    "X_train, X_test, y_train, y_test = load_process_data()"
   ]
  },
  {
   "cell_type": "markdown",
   "id": "d6a0740a-e2e0-4a52-b18d-085fb66f9633",
   "metadata": {},
   "source": [
    "There are 3831 posts with the label depression, the mean length is 136 words, and the max is 4239.\n",
    "\n",
    "There are 3900 posts with the label non-depression, the mean length is 14 words, and the max is 42."
   ]
  },
  {
   "cell_type": "markdown",
   "id": "279bdb62-7ae1-4015-ad3e-cd92628af00d",
   "metadata": {},
   "source": [
    "### Vectorizer"
   ]
  },
  {
   "cell_type": "markdown",
   "id": "616b5272-094d-4edc-b783-eb754e03ad8f",
   "metadata": {},
   "source": [
    "This function tdidf vectorizes the data set."
   ]
  },
  {
   "cell_type": "code",
   "execution_count": 9,
   "id": "7e520ff7-494c-42ba-9239-d4a182f91634",
   "metadata": {
    "execution": {
     "iopub.execute_input": "2023-05-27T09:25:31.782738Z",
     "iopub.status.busy": "2023-05-27T09:25:31.782579Z",
     "iopub.status.idle": "2023-05-27T09:25:31.787046Z",
     "shell.execute_reply": "2023-05-27T09:25:31.786518Z",
     "shell.execute_reply.started": "2023-05-27T09:25:31.782719Z"
    },
    "tags": []
   },
   "outputs": [],
   "source": [
    "# create vectorizer\n",
    "def vec(X_train, X_test):\n",
    "    # initialize vectorizer\n",
    "    vectorizer = TfidfVectorizer(lowercase = True, min_df = 0.05, max_df = 0.95)\n",
    "    # fit and transform the data to the vectorizer\n",
    "    X_train_feats = vectorizer.fit_transform(X_train)\n",
    "    X_test_feats = vectorizer.transform(X_test)\n",
    "    \n",
    "    return vectorizer, X_train_feats, X_test_feats"
   ]
  },
  {
   "cell_type": "code",
   "execution_count": 10,
   "id": "7521d3be-6dc3-44d3-823f-2c31a28c5fe8",
   "metadata": {
    "execution": {
     "iopub.execute_input": "2023-05-27T09:25:31.787798Z",
     "iopub.status.busy": "2023-05-27T09:25:31.787664Z",
     "iopub.status.idle": "2023-05-27T09:25:32.441598Z",
     "shell.execute_reply": "2023-05-27T09:25:32.441011Z",
     "shell.execute_reply.started": "2023-05-27T09:25:31.787782Z"
    },
    "tags": []
   },
   "outputs": [],
   "source": [
    "vectorizer, X_train_feats, X_test_feats = vec(X_train, X_test)"
   ]
  },
  {
   "cell_type": "markdown",
   "id": "34ed15c5-c740-4652-94e8-f4c61d8b216c",
   "metadata": {},
   "source": [
    "### Classifier"
   ]
  },
  {
   "cell_type": "markdown",
   "id": "9aec3f0e-c2b2-4142-aed8-78c3a96c2046",
   "metadata": {},
   "source": [
    "This function builds the model, which uses logistic regression, predicts on the test set, and saves the classification report and confusion matrix."
   ]
  },
  {
   "cell_type": "code",
   "execution_count": 11,
   "id": "84d2a99f-a502-43bd-8bf6-dbc427fadd2f",
   "metadata": {
    "execution": {
     "iopub.execute_input": "2023-05-27T09:25:32.442802Z",
     "iopub.status.busy": "2023-05-27T09:25:32.442624Z",
     "iopub.status.idle": "2023-05-27T09:25:32.448659Z",
     "shell.execute_reply": "2023-05-27T09:25:32.448134Z",
     "shell.execute_reply.started": "2023-05-27T09:25:32.442781Z"
    },
    "tags": []
   },
   "outputs": [],
   "source": [
    "# get predictions\n",
    "def clf_pred(X_train_feats, y_train, X_test_feats, y_test):\n",
    "    # inialize logistic gression classifier\n",
    "    classifier = LogisticRegression(random_state = 42).fit(X_train_feats, y_train)\n",
    "    # get predictions\n",
    "    y_pred = classifier.predict(X_test_feats)\n",
    "    # get classification report\n",
    "    labels =['not depression', 'depression']\n",
    "    report = classification_report(y_test, y_pred, target_names = labels)\n",
    "    # print report\n",
    "    print(report)\n",
    "    p = os.path.join('../out/tfidf_classification_report.txt')\n",
    "    # save the report\n",
    "    with open(p, 'w') as outfile:\n",
    "        outfile.write(report)\n",
    "        \n",
    "    # create confusion matrix\n",
    "    cm = confusion_matrix(y_test, y_pred, labels=classifier.classes_)\n",
    "    disp = ConfusionMatrixDisplay(confusion_matrix=cm, display_labels=classifier.classes_)\n",
    "    # display it\n",
    "    disp.plot()\n",
    "    # save it\n",
    "    plt.savefig(\"../out/confusion_matrix.jpg\")\n",
    "    \n",
    "    return classifier, labels"
   ]
  },
  {
   "cell_type": "code",
   "execution_count": 12,
   "id": "1503b378-0fcc-48e4-9f19-259818de5d8e",
   "metadata": {
    "execution": {
     "iopub.execute_input": "2023-05-27T09:25:32.449474Z",
     "iopub.status.busy": "2023-05-27T09:25:32.449299Z",
     "iopub.status.idle": "2023-05-27T09:25:33.168625Z",
     "shell.execute_reply": "2023-05-27T09:25:33.168082Z",
     "shell.execute_reply.started": "2023-05-27T09:25:32.449457Z"
    },
    "tags": []
   },
   "outputs": [
    {
     "name": "stdout",
     "output_type": "stream",
     "text": [
      "                precision    recall  f1-score   support\n",
      "\n",
      "not depression       0.92      0.98      0.95       783\n",
      "    depression       0.98      0.91      0.94       764\n",
      "\n",
      "      accuracy                           0.95      1547\n",
      "     macro avg       0.95      0.94      0.94      1547\n",
      "  weighted avg       0.95      0.95      0.94      1547\n",
      "\n"
     ]
    },
    {
     "data": {
      "image/png": "[encoded data removed]",
      "text/plain": [
       "<Figure size 432x288 with 2 Axes>"
      ]
     },
     "metadata": {
      "needs_background": "light"
     },
     "output_type": "display_data"
    }
   ],
   "source": [
    "classifier, labels = clf_pred(X_train_feats, y_train, X_test_feats, y_test)"
   ]
  },
  {
   "cell_type": "markdown",
   "id": "83a73d95-461f-45b0-a767-d3a3553c4c7d",
   "metadata": {},
   "source": [
    "## Most informative features"
   ]
  },
  {
   "cell_type": "markdown",
   "id": "035cb7f4-b745-469d-b179-a75e36f8a4cd",
   "metadata": {},
   "source": [
    "This function finds the most informative words for the model and saves the output."
   ]
  },
  {
   "cell_type": "code",
   "execution_count": 13,
   "id": "e680028f-dbb4-4ae4-bcff-ea69f066be6f",
   "metadata": {
    "execution": {
     "iopub.execute_input": "2023-05-27T09:25:33.169543Z",
     "iopub.status.busy": "2023-05-27T09:25:33.169400Z",
     "iopub.status.idle": "2023-05-27T09:25:33.176695Z",
     "shell.execute_reply": "2023-05-27T09:25:33.176170Z",
     "shell.execute_reply.started": "2023-05-27T09:25:33.169525Z"
    },
    "tags": []
   },
   "outputs": [],
   "source": [
    "def most_informative_feature_for_binary_classification(vectorizer, classifier, n=10):\n",
    "    '''\n",
    "    I found this function here:\n",
    "    https://stackoverflow.com/questions/26976362/how-to-get-most-informative-features-for-scikit-learn-classifier-for-different-c\n",
    "    And adapted it for my purposes.\n",
    "    '''\n",
    "    # get the labels\n",
    "    class_labels = classifier.classes_\n",
    "    # get the features\n",
    "    feature_names = vectorizer.get_feature_names_out()\n",
    "    # sort the features according to the model's coefficients \n",
    "    topn_class1 = sorted(zip(classifier.coef_[0], feature_names))[:n]\n",
    "    topn_class2 = sorted(zip(classifier.coef_[0], feature_names))[-n:]\n",
    "    # print the most informative features for non-depression\n",
    "    print('most informative features for non-depression')\n",
    "    # make them into a dataframe\n",
    "    coefs = []\n",
    "    feats = []\n",
    "    for coef, feat in topn_class1:\n",
    "        coefs.append(coef)\n",
    "        feats.append(feat)\n",
    "    features_non_depression = pd.DataFrame(coefs, feats)\n",
    "    features_non_depression.reset_index(inplace=True)\n",
    "    features_non_depression.columns = ['word','value']\n",
    "    print(features_non_depression)\n",
    "    # save \n",
    "    features_non_depression.to_csv('../out/features_non_depression.csv', index=False)\n",
    "\n",
    "    print('') # for a bit of space\n",
    "    \n",
    "    # do the same for depression\n",
    "    print('most informative features for depression')\n",
    "    coefs = []\n",
    "    feats = []\n",
    "    for coef, feat in reversed(topn_class2):\n",
    "        coefs.append(coef)\n",
    "        feats.append(feat)\n",
    "    features_depression = pd.DataFrame(coefs, feats)\n",
    "    features_depression.reset_index(inplace=True)\n",
    "    features_depression.columns = ['word','value']\n",
    "    print(features_depression)\n",
    "    features_depression.to_csv('../out/features_depression.csv', index=False)\n",
    "        "
   ]
  },
  {
   "cell_type": "code",
   "execution_count": 14,
   "id": "5655382d-204a-4eb7-80d5-3dc99b9cf4c8",
   "metadata": {
    "execution": {
     "iopub.execute_input": "2023-05-27T09:25:33.177592Z",
     "iopub.status.busy": "2023-05-27T09:25:33.177448Z",
     "iopub.status.idle": "2023-05-27T09:25:33.220651Z",
     "shell.execute_reply": "2023-05-27T09:25:33.220012Z",
     "shell.execute_reply.started": "2023-05-27T09:25:33.177574Z"
    },
    "tags": []
   },
   "outputs": [
    {
     "name": "stdout",
     "output_type": "stream",
     "text": [
      "most informative features for non-depression\n",
      "    word     value\n",
      "0  sleep -0.888881\n",
      "1   work -0.604568\n",
      "2  today -0.571062\n",
      "3    got -0.539824\n",
      "4   find -0.474707\n",
      "5     ha -0.387235\n",
      "6     go -0.312104\n",
      "7   well -0.281418\n",
      "8    see -0.205509\n",
      "9  again -0.200370\n",
      "\n",
      "most informative features for depression\n",
      "         word      value\n",
      "0  depression  13.316644\n",
      "1     anxiety   5.715284\n",
      "2         and   3.719885\n",
      "3        life   3.577879\n",
      "4      myself   3.439551\n",
      "5          me   3.294675\n",
      "6     anymore   2.937231\n",
      "7        feel   2.783699\n",
      "8          if   2.716638\n",
      "9      anyone   2.698831\n"
     ]
    }
   ],
   "source": [
    "most_informative_feature_for_binary_classification(vectorizer, classifier)"
   ]
  },
  {
   "cell_type": "markdown",
   "id": "8cabd330-f91b-49be-bc3f-f0c899f3467a",
   "metadata": {},
   "source": [
    "# Sentiment analysis"
   ]
  },
  {
   "cell_type": "markdown",
   "id": "b3310737-1c92-4cf3-979f-c8c10d4c243f",
   "metadata": {},
   "source": [
    "This function processes the data again."
   ]
  },
  {
   "cell_type": "code",
   "execution_count": 15,
   "id": "cabc5792-8527-4a5b-a8e5-ef86484b9a62",
   "metadata": {
    "execution": {
     "iopub.execute_input": "2023-05-27T09:25:33.222408Z",
     "iopub.status.busy": "2023-05-27T09:25:33.222011Z",
     "iopub.status.idle": "2023-05-27T09:25:33.227785Z",
     "shell.execute_reply": "2023-05-27T09:25:33.227253Z",
     "shell.execute_reply.started": "2023-05-27T09:25:33.222380Z"
    },
    "tags": []
   },
   "outputs": [],
   "source": [
    "def reload_and_process():\n",
    "    filepath = os.path.join('../in/depression_dataset_reddit_cleaned.csv')\n",
    "    # read data as pandas data frame\n",
    "    data = pd.read_csv(filepath)\n",
    "    # remove unwanted characters \n",
    "    for post in data:\n",
    "        post = text_preprocessing(post)\n",
    "    # remove stopwords\n",
    "    data['clean_text'] = data['clean_text'].apply(lambda x: ' '.join([word for word in x.split() if word not in (stop_corpus)]))\n",
    "    # split the data\n",
    "    depression = data[data['is_depression'] == 1]\n",
    "    non_depression = data[data['is_depression'] == 0]\n",
    "\n",
    "    return depression, non_depression"
   ]
  },
  {
   "cell_type": "code",
   "execution_count": 16,
   "id": "48d5698a-733f-4b18-b947-84047c331685",
   "metadata": {
    "execution": {
     "iopub.execute_input": "2023-05-27T09:25:33.228644Z",
     "iopub.status.busy": "2023-05-27T09:25:33.228501Z",
     "iopub.status.idle": "2023-05-27T09:25:34.023522Z",
     "shell.execute_reply": "2023-05-27T09:25:34.022958Z",
     "shell.execute_reply.started": "2023-05-27T09:25:33.228626Z"
    },
    "tags": []
   },
   "outputs": [],
   "source": [
    "depression, non_depression = reload_and_process()"
   ]
  },
  {
   "cell_type": "markdown",
   "id": "9227bd0c-c300-47d8-8666-445c216e96c8",
   "metadata": {},
   "source": [
    "This function performs sentiment analysis with *Vader*."
   ]
  },
  {
   "cell_type": "code",
   "execution_count": 17,
   "id": "555d49db-1e90-431c-b09a-529a37e2c481",
   "metadata": {
    "execution": {
     "iopub.execute_input": "2023-05-27T09:25:34.024479Z",
     "iopub.status.busy": "2023-05-27T09:25:34.024322Z",
     "iopub.status.idle": "2023-05-27T09:25:34.030856Z",
     "shell.execute_reply": "2023-05-27T09:25:34.030333Z",
     "shell.execute_reply.started": "2023-05-27T09:25:34.024460Z"
    },
    "tags": []
   },
   "outputs": [],
   "source": [
    "def sent_analysis(data):\n",
    "    sents = []\n",
    "    scores = []\n",
    "    for post in data['clean_text']:\n",
    "        # get the sentiment of each post\n",
    "        sent = sent_analyzer.polarity_scores(post)\n",
    "        # if the sentiment is less than 0.05 it is negative - add that to a column and the sentiment score to another\n",
    "        if sent['compound'] <= -0.05:\n",
    "            sents.append('negative')\n",
    "            scores.append(sent['compound'])\n",
    "        # do the same for the positive posts\n",
    "        elif sent['compound'] >= 0.05:\n",
    "            sents.append('positive')\n",
    "            scores.append(sent['compound'])\n",
    "        # do the same for the neutral posts \n",
    "        else:\n",
    "            sents.append('neutral')\n",
    "            scores.append(sent['compound'])\n",
    "    \n",
    "    # add the sentiments to the dataframe\n",
    "    data['sentiment'] = sents\n",
    "    # add the scores to the dataframe\n",
    "    data['sent_scores'] = scores\n",
    "    \n",
    "    # print the value counts of each sentiment\n",
    "    print(data['sentiment'].value_counts())\n",
    "    df = pd.DataFrame(data['sentiment'].value_counts())\n",
    "    df.reset_index(inplace=True)\n",
    "    \n",
    "    print('') # for a bit of space\n",
    "    \n",
    "    # print descriptive statistics\n",
    "    print(data['sent_scores'].describe())\n",
    "    \n",
    "    return df"
   ]
  },
  {
   "cell_type": "code",
   "execution_count": 18,
   "id": "26d6792a-4bb0-48ad-a8ba-d36bd9761e6e",
   "metadata": {
    "execution": {
     "iopub.execute_input": "2023-05-27T09:25:34.031604Z",
     "iopub.status.busy": "2023-05-27T09:25:34.031470Z",
     "iopub.status.idle": "2023-05-27T09:25:36.374199Z",
     "shell.execute_reply": "2023-05-27T09:25:36.373515Z",
     "shell.execute_reply.started": "2023-05-27T09:25:34.031588Z"
    },
    "tags": []
   },
   "outputs": [
    {
     "name": "stdout",
     "output_type": "stream",
     "text": [
      "sentiment\n",
      "negative    2514\n",
      "positive    1174\n",
      "neutral      143\n",
      "Name: count, dtype: int64\n",
      "\n",
      "count    3831.000000\n",
      "mean       -0.270011\n",
      "std         0.681908\n",
      "min        -0.999400\n",
      "25%        -0.872000\n",
      "50%        -0.571900\n",
      "75%         0.340000\n",
      "max         0.999100\n",
      "Name: sent_scores, dtype: float64\n"
     ]
    }
   ],
   "source": [
    "depression_sents = sent_analysis(depression)"
   ]
  },
  {
   "cell_type": "code",
   "execution_count": 19,
   "id": "c9b53bde-5c1c-4785-8911-8c3055ac9ad9",
   "metadata": {
    "execution": {
     "iopub.execute_input": "2023-05-27T09:25:36.375671Z",
     "iopub.status.busy": "2023-05-27T09:25:36.375504Z",
     "iopub.status.idle": "2023-05-27T09:25:36.746256Z",
     "shell.execute_reply": "2023-05-27T09:25:36.745683Z",
     "shell.execute_reply.started": "2023-05-27T09:25:36.375652Z"
    },
    "tags": []
   },
   "outputs": [
    {
     "name": "stdout",
     "output_type": "stream",
     "text": [
      "sentiment\n",
      "negative    1464\n",
      "positive    1403\n",
      "neutral     1033\n",
      "Name: count, dtype: int64\n",
      "\n",
      "count    3900.000000\n",
      "mean       -0.003305\n",
      "std         0.423957\n",
      "min        -0.924600\n",
      "25%        -0.340000\n",
      "50%         0.000000\n",
      "75%         0.340000\n",
      "max         0.961200\n",
      "Name: sent_scores, dtype: float64\n"
     ]
    }
   ],
   "source": [
    "non_depression_sents = sent_analysis(non_depression)"
   ]
  },
  {
   "cell_type": "markdown",
   "id": "6c3f941a-f526-4a24-87b1-d412b84f8e18",
   "metadata": {},
   "source": [
    "Save outputs."
   ]
  },
  {
   "cell_type": "code",
   "execution_count": 20,
   "id": "c04d3438-831e-461e-88d4-da101bc00ec9",
   "metadata": {
    "execution": {
     "iopub.execute_input": "2023-05-27T09:25:36.747211Z",
     "iopub.status.busy": "2023-05-27T09:25:36.747051Z",
     "iopub.status.idle": "2023-05-27T09:25:36.761559Z",
     "shell.execute_reply": "2023-05-27T09:25:36.760964Z",
     "shell.execute_reply.started": "2023-05-27T09:25:36.747191Z"
    },
    "tags": []
   },
   "outputs": [],
   "source": [
    "depression_sents.to_csv('../out/sents_depression.csv', index=False)\n",
    "non_depression_sents.to_csv('../out/sents_non_depression.csv', index=False)"
   ]
  },
  {
   "cell_type": "markdown",
   "id": "de9a998c-9685-47c6-b2f1-1f4f94138763",
   "metadata": {},
   "source": [
    "Playing around with Vader."
   ]
  },
  {
   "cell_type": "code",
   "execution_count": 21,
   "id": "cb2e1456-f6b3-4ecb-9e3f-588940332385",
   "metadata": {
    "execution": {
     "iopub.execute_input": "2023-05-27T09:25:36.765614Z",
     "iopub.status.busy": "2023-05-27T09:25:36.765289Z",
     "iopub.status.idle": "2023-05-27T09:25:36.781397Z",
     "shell.execute_reply": "2023-05-27T09:25:36.780858Z",
     "shell.execute_reply.started": "2023-05-27T09:25:36.765591Z"
    },
    "tags": []
   },
   "outputs": [
    {
     "data": {
      "text/plain": [
       "{'neg': 0.0, 'neu': 0.334, 'pos': 0.666, 'compound': 0.6115}"
      ]
     },
     "execution_count": 21,
     "metadata": {},
     "output_type": "execute_result"
    }
   ],
   "source": [
    "sent_analyzer.polarity_scores('''I'm very happy''')"
   ]
  },
  {
   "cell_type": "code",
   "execution_count": 22,
   "id": "d307e0ad-85ab-402b-9107-5cee661d2089",
   "metadata": {
    "execution": {
     "iopub.execute_input": "2023-05-27T09:25:36.782733Z",
     "iopub.status.busy": "2023-05-27T09:25:36.782520Z",
     "iopub.status.idle": "2023-05-27T09:25:36.791610Z",
     "shell.execute_reply": "2023-05-27T09:25:36.790994Z",
     "shell.execute_reply.started": "2023-05-27T09:25:36.782707Z"
    },
    "tags": []
   },
   "outputs": [
    {
     "data": {
      "text/plain": [
       "{'neg': 0.629, 'neu': 0.371, 'pos': 0.0, 'compound': -0.5256}"
      ]
     },
     "execution_count": 22,
     "metadata": {},
     "output_type": "execute_result"
    }
   ],
   "source": [
    "sent_analyzer.polarity_scores('''I'm very sad''')"
   ]
  },
  {
   "cell_type": "code",
   "execution_count": 23,
   "id": "07adc98b-4d0f-432b-a7c3-fb60ef8a3e42",
   "metadata": {
    "execution": {
     "iopub.execute_input": "2023-05-27T09:25:36.792904Z",
     "iopub.status.busy": "2023-05-27T09:25:36.792693Z",
     "iopub.status.idle": "2023-05-27T09:25:36.800855Z",
     "shell.execute_reply": "2023-05-27T09:25:36.800253Z",
     "shell.execute_reply.started": "2023-05-27T09:25:36.792879Z"
    }
   },
   "outputs": [
    {
     "data": {
      "text/plain": [
       "{'neg': 0.699, 'neu': 0.301, 'pos': 0.0, 'compound': -0.788}"
      ]
     },
     "execution_count": 23,
     "metadata": {},
     "output_type": "execute_result"
    }
   ],
   "source": [
    "sent_analyzer.polarity_scores('''I'm very sad and angry''')"
   ]
  },
  {
   "cell_type": "code",
   "execution_count": 24,
   "id": "f36fc943-0816-4d74-a8ff-dc2405288f65",
   "metadata": {
    "execution": {
     "iopub.execute_input": "2023-05-27T09:25:36.802061Z",
     "iopub.status.busy": "2023-05-27T09:25:36.801887Z",
     "iopub.status.idle": "2023-05-27T09:25:36.811546Z",
     "shell.execute_reply": "2023-05-27T09:25:36.810867Z",
     "shell.execute_reply.started": "2023-05-27T09:25:36.802039Z"
    }
   },
   "outputs": [
    {
     "data": {
      "text/plain": [
       "{'neg': 0.721, 'neu': 0.279, 'pos': 0.0, 'compound': -0.8849}"
      ]
     },
     "execution_count": 24,
     "metadata": {},
     "output_type": "execute_result"
    }
   ],
   "source": [
    "sent_analyzer.polarity_scores('''I'm very sad and angry and hurt''')"
   ]
  },
  {
   "cell_type": "code",
   "execution_count": 25,
   "id": "423327fe-ace1-44c6-99eb-1d0322043c93",
   "metadata": {
    "execution": {
     "iopub.execute_input": "2023-05-27T09:25:36.812606Z",
     "iopub.status.busy": "2023-05-27T09:25:36.812426Z",
     "iopub.status.idle": "2023-05-27T09:25:36.820448Z",
     "shell.execute_reply": "2023-05-27T09:25:36.819774Z",
     "shell.execute_reply.started": "2023-05-27T09:25:36.812584Z"
    },
    "tags": []
   },
   "outputs": [
    {
     "data": {
      "text/plain": [
       "{'neg': 1.0, 'neu': 0.0, 'pos': 0.0, 'compound': -0.5719}"
      ]
     },
     "execution_count": 25,
     "metadata": {},
     "output_type": "execute_result"
    }
   ],
   "source": [
    "sent_analyzer.polarity_scores('depression')"
   ]
  },
  {
   "cell_type": "code",
   "execution_count": null,
   "id": "58fbaa19-e301-4bf5-8418-ab62b13f8e28",
   "metadata": {},
   "outputs": [],
   "source": []
  }
 ],
 "metadata": {
  "kernelspec": {
   "display_name": "Python 3 ",
   "language": "python",
   "name": "python3"
  },
  "language_info": {
   "codemirror_mode": {
    "name": "ipython",
    "version": 3
   },
   "file_extension": ".py",
   "mimetype": "text/x-python",
   "name": "python",
   "nbconvert_exporter": "python",
   "pygments_lexer": "ipython3",
   "version": "3.9.10"
  }
 },
 "nbformat": 4,
 "nbformat_minor": 5
}
